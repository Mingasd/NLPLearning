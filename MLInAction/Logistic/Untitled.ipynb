{
 "cells": [
  {
   "cell_type": "code",
   "execution_count": 2,
   "metadata": {},
   "outputs": [],
   "source": [
    "import matplotlib.pyplot as plt\n",
    "import numpy as np"
   ]
  },
  {
   "cell_type": "markdown",
   "metadata": {},
   "source": [
    "### 使用梯度上升找到最佳参数"
   ]
  },
  {
   "cell_type": "code",
   "execution_count": 3,
   "metadata": {},
   "outputs": [],
   "source": [
    "def loadDataSet():\n",
    "    dataMat = []                                                        \n",
    "    labelMat = []                                                       \n",
    "    fr = open('testSet.txt')                                            \n",
    "    for line in fr.readlines():                                        \n",
    "        lineArr = line.strip().split()                                  \n",
    "        dataMat.append([1.0, float(lineArr[0]), float(lineArr[1])])     \n",
    "        labelMat.append(int(lineArr[2]))                                \n",
    "    fr.close()                                                          \n",
    "    return dataMat, labelMat"
   ]
  },
  {
   "cell_type": "code",
   "execution_count": 5,
   "metadata": {},
   "outputs": [],
   "source": [
    "# 绘制数据集\n",
    "def plotDataSet():\n",
    "    dataMat, labelMat = loadDataSet()                                   #加载数据集\n",
    "    dataArr = np.array(dataMat)                                         #转换成numpy的array数组\n",
    "    n = np.shape(dataMat)[0]                                            #数据个数\n",
    "    xcord1 = []; ycord1 = []                                            #正样本\n",
    "    xcord2 = []; ycord2 = []                                            #负样本\n",
    "    for i in range(n):                                                  #根据数据集标签进行分类\n",
    "        if int(labelMat[i]) == 1:\n",
    "            xcord1.append(dataArr[i,1]); ycord1.append(dataArr[i,2])    #1为正样本\n",
    "        else:\n",
    "            xcord2.append(dataArr[i,1]); ycord2.append(dataArr[i,2])    #0为负样本\n",
    "    fig = plt.figure()\n",
    "    ax = fig.add_subplot(111)                                           #添加subplot\n",
    "    ax.scatter(xcord1, ycord1, s = 20, c = 'red', marker = 's',alpha=.5)#绘制正样本\n",
    "    ax.scatter(xcord2, ycord2, s = 20, c = 'green',alpha=.5)            #绘制负样本\n",
    "    plt.title('DataSet')                                                #绘制title\n",
    "    plt.xlabel('x'); plt.ylabel('y')                                    #绘制label\n",
    "    plt.show()  "
   ]
  },
  {
   "cell_type": "code",
   "execution_count": 7,
   "metadata": {},
   "outputs": [
    {
     "data": {
      "image/png": "[encoded data removed]",
      "text/plain": [
       "<Figure size 432x288 with 1 Axes>"
      ]
     },
     "metadata": {
      "needs_background": "light"
     },
     "output_type": "display_data"
    }
   ],
   "source": [
    "plotDataSet()"
   ]
  },
  {
   "cell_type": "code",
   "execution_count": 8,
   "metadata": {},
   "outputs": [],
   "source": [
    "# sigmoid函数\n",
    "def sigmoid(inX):\n",
    "    return 1.0 / (1 + np.exp(-inX))"
   ]
  },
  {
   "cell_type": "code",
   "execution_count": 9,
   "metadata": {},
   "outputs": [],
   "source": [
    "# 梯度上升算法\n",
    "def gradAscent(dataMatIn, classLabels):\n",
    "    dataMatrix = np.mat(dataMatIn)                                  #转换成numpy的mat\n",
    "    labelMat = np.mat(classLabels).transpose()                      #转换成numpy的mat,并进行转置\n",
    "    m, n = np.shape(dataMatrix)                                     #返回dataMatrix的大小。m为行数,n为列数。\n",
    "    alpha = 0.001                                                   #移动步长,也就是学习速率,控制更新的幅度。\n",
    "    maxCycles = 500                                                 #最大迭代次数\n",
    "    weights = np.ones((n,1))\n",
    "    for k in range(maxCycles):\n",
    "        h = sigmoid(dataMatrix * weights)                           #梯度上升矢量化公式\n",
    "        error = labelMat - h\n",
    "        weights = weights + alpha * dataMatrix.transpose() * error\n",
    "    return weights.getA()                                           #将矩阵转换为数组，返回权重数组"
   ]
  },
  {
   "cell_type": "code",
   "execution_count": 13,
   "metadata": {},
   "outputs": [
    {
     "name": "stdout",
     "output_type": "stream",
     "text": [
      "[[ 4.12414349]\n",
      " [ 0.48007329]\n",
      " [-0.6168482 ]]\n"
     ]
    }
   ],
   "source": [
    "dataArr,labelMat = loadDataSet()\n",
    "weights = gradAscent(dataArr,labelMat)\n",
    "print(weights)"
   ]
  },
  {
   "cell_type": "markdown",
   "metadata": {},
   "source": [
    "### 画出决策边界"
   ]
  },
  {
   "cell_type": "code",
   "execution_count": 12,
   "metadata": {},
   "outputs": [],
   "source": [
    "# 绘制数据集和Logistic回归最佳拟合直线的函数\n",
    "def plotBestFit(weights):\n",
    "    dataMat, labelMat = loadDataSet()                                   #加载数据集\n",
    "    dataArr = np.array(dataMat)                                         #转换成numpy的array数组\n",
    "    n = np.shape(dataMat)[0]                                            #数据个数\n",
    "    xcord1 = []; ycord1 = []                                            #正样本\n",
    "    xcord2 = []; ycord2 = []                                            #负样本\n",
    "    for i in range(n):                                                  #根据数据集标签进行分类\n",
    "        if int(labelMat[i]) == 1:\n",
    "            xcord1.append(dataArr[i,1]); ycord1.append(dataArr[i,2])    #1为正样本\n",
    "        else:\n",
    "            xcord2.append(dataArr[i,1]); ycord2.append(dataArr[i,2])    #0为负样本\n",
    "    fig = plt.figure()\n",
    "    ax = fig.add_subplot(111)                                           #添加subplot\n",
    "    ax.scatter(xcord1, ycord1, s = 20, c = 'red', marker = 's',alpha=.5)#绘制正样本\n",
    "    ax.scatter(xcord2, ycord2, s = 20, c = 'green',alpha=.5)            #绘制负样本\n",
    "    x = np.arange(-3.0, 3.0, 0.1)\n",
    "    y = (-weights[0] - weights[1] * x) / weights[2]\n",
    "    ax.plot(x, y)\n",
    "    plt.title('BestFit')                                                #绘制title\n",
    "    plt.xlabel('X1'); plt.ylabel('X2')                                  #绘制label\n",
    "    plt.show()"
   ]
  },
  {
   "cell_type": "code",
   "execution_count": 15,
   "metadata": {},
   "outputs": [
    {
     "data": {
      "image/png": "[encoded data removed]",
      "text/plain": [
       "<Figure size 432x288 with 1 Axes>"
      ]
     },
     "metadata": {
      "needs_background": "light"
     },
     "output_type": "display_data"
    }
   ],
   "source": [
    "plotBestFit(weights)"
   ]
  },
  {
   "cell_type": "code",
   "execution_count": 19,
   "metadata": {},
   "outputs": [],
   "source": [
    "import random\n",
    "# 改进的随机梯度上升算法\n",
    "def stocGradAscent1(dataMatrix, classLabels, numIter=150):\n",
    "    m,n = np.shape(dataMatrix)                                       #返回dataMatrix的大小。m为行数,n为列数。\n",
    "    weights = np.ones(n)                                             #参数初始化\n",
    "    for j in range(numIter):\n",
    "        dataIndex = list(range(m))\n",
    "        for i in range(m):\n",
    "            alpha = 4/(1.0+j+i)+0.01                                 #降低alpha的大小，每次减小1/(j+i)。\n",
    "            randIndex = int(random.uniform(0,len(dataIndex)))        #随机选取样本\n",
    "            h = sigmoid(sum(dataMatrix[randIndex]*weights))          #选择随机选取的一个样本，计算h\n",
    "            error = classLabels[randIndex] - h                       #计算误差\n",
    "            weights = weights + alpha * error * dataMatrix[randIndex]#更新回归系数\n",
    "            del(dataIndex[randIndex])                                #删除已经使用的样本\n",
    "    return weights                                                   "
   ]
  },
  {
   "cell_type": "code",
   "execution_count": 21,
   "metadata": {},
   "outputs": [
    {
     "data": {
      "image/png": "[encoded data removed]",
      "text/plain": [
       "<Figure size 432x288 with 1 Axes>"
      ]
     },
     "metadata": {
      "needs_background": "light"
     },
     "output_type": "display_data"
    }
   ],
   "source": [
    "weights = stocGradAscent1(np.array(dataArr),labelMat)\n",
    "plotBestFit(weights)"
   ]
  },
  {
   "cell_type": "markdown",
   "metadata": {},
   "source": [
    "### 从疝气病症预测病马死亡率"
   ]
  },
  {
   "cell_type": "code",
   "execution_count": 24,
   "metadata": {},
   "outputs": [],
   "source": [
    "# 分类函数\n",
    "def classifyVector(inX, weights):\n",
    "    prob = sigmoid(sum(inX*weights))\n",
    "    if prob > 0.5: return 1.0\n",
    "    else: return 0.0"
   ]
  },
  {
   "cell_type": "code",
   "execution_count": 25,
   "metadata": {},
   "outputs": [],
   "source": [
    "def colicTest():\n",
    "    frTrain = open('horseColicTraining.txt')                                          #打开训练集\n",
    "    frTest = open('horseColicTest.txt')                                               #打开测试集\n",
    "    trainingSet = []; trainingLabels = []\n",
    "    for line in frTrain.readlines():\n",
    "        currLine = line.strip().split('\\t')\n",
    "        lineArr = []\n",
    "        for i in range(len(currLine)-1):\n",
    "            lineArr.append(float(currLine[i]))\n",
    "        trainingSet.append(lineArr)\n",
    "        trainingLabels.append(float(currLine[-1]))\n",
    "    trainWeights = stocGradAscent1(np.array(trainingSet), trainingLabels, 500)        #使用改进的随即上升梯度训练\n",
    "    errorCount = 0; numTestVec = 0.0\n",
    "    for line in frTest.readlines():\n",
    "        numTestVec += 1.0\n",
    "        currLine = line.strip().split('\\t')\n",
    "        lineArr =[]\n",
    "        for i in range(len(currLine)-1):\n",
    "            lineArr.append(float(currLine[i]))\n",
    "        if int(classifyVector(np.array(lineArr), trainWeights))!= int(currLine[-1]):\n",
    "            errorCount += 1\n",
    "    errorRate = (float(errorCount)/numTestVec) * 100                                 #错误率计算\n",
    "    print(\"测试集错误率为: %.2f%%\" % errorRate)"
   ]
  },
  {
   "cell_type": "code",
   "execution_count": 27,
   "metadata": {},
   "outputs": [
    {
     "name": "stderr",
     "output_type": "stream",
     "text": [
      "/ana/anaconda3/envs/nlp/lib/python3.7/site-packages/ipykernel_launcher.py:3: RuntimeWarning: overflow encountered in exp\n",
      "  This is separate from the ipykernel package so we can avoid doing imports until\n"
     ]
    },
    {
     "name": "stdout",
     "output_type": "stream",
     "text": [
      "测试集错误率为: 37.31%\n"
     ]
    }
   ],
   "source": [
    "colicTest()"
   ]
  },
  {
   "cell_type": "code",
   "execution_count": 33,
   "metadata": {},
   "outputs": [],
   "source": [
    "from sklearn.linear_model import LogisticRegression\n",
    "\n",
    "# 使用Sklearn构建Logistic回归分类器\n",
    "def colicSklearn():\n",
    "    frTrain = open('horseColicTraining.txt')              #打开训练集\n",
    "    frTest = open('horseColicTest.txt')                   #打开测试集\n",
    "    trainingSet = []; trainingLabels = []\n",
    "    testSet = []; testLabels = []\n",
    "    for line in frTrain.readlines():\n",
    "        currLine = line.strip().split('\\t')\n",
    "        lineArr = []\n",
    "        for i in range(len(currLine)-1):\n",
    "            lineArr.append(float(currLine[i]))\n",
    "        trainingSet.append(lineArr)\n",
    "        trainingLabels.append(float(currLine[-1]))\n",
    "    for line in frTest.readlines():\n",
    "        currLine = line.strip().split('\\t')\n",
    "        lineArr =[]\n",
    "        for i in range(len(currLine)-1):\n",
    "            lineArr.append(float(currLine[i]))\n",
    "        testSet.append(lineArr)\n",
    "        testLabels.append(float(currLine[-1]))\n",
    "    classifier = LogisticRegression(solver='liblinear',max_iter=100).fit(trainingSet, trainingLabels)\n",
    "    test_accurcy = classifier.score(testSet, testLabels) * 100\n",
    "    print('正确率:%f%%' % test_accurcy)"
   ]
  },
  {
   "cell_type": "code",
   "execution_count": 34,
   "metadata": {},
   "outputs": [
    {
     "name": "stdout",
     "output_type": "stream",
     "text": [
      "正确率:73.134328%\n"
     ]
    }
   ],
   "source": [
    "colicSklearn()"
   ]
  }
 ],
 "metadata": {
  "kernelspec": {
   "display_name": "Python 3",
   "language": "python",
   "name": "python3"
  },
  "language_info": {
   "codemirror_mode": {
    "name": "ipython",
    "version": 3
   },
   "file_extension": ".py",
   "mimetype": "text/x-python",
   "name": "python",
   "nbconvert_exporter": "python",
   "pygments_lexer": "ipython3",
   "version": "3.7.6"
  }
 },
 "nbformat": 4,
 "nbformat_minor": 4
}
