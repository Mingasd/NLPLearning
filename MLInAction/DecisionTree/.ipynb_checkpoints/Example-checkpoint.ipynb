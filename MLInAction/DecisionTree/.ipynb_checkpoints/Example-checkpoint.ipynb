{
 "cells": [
  {
   "cell_type": "code",
   "execution_count": 33,
   "metadata": {},
   "outputs": [],
   "source": [
    "from math import log\n",
    "import matplotlib\n",
    "import matplotlib.pyplot as plt\n",
    "import matplotlib.lines as mlines\n",
    "plt.rcParams['font.sans-serif'] = ['Arial Unicode MS']\n",
    "\n",
    "# 计算给定数据集的香农熵\n",
    "def calcShannonEnt(dataSet):\n",
    "    numEntires = len(dataSet)   \n",
    "    #保存每个标签(Label)出现次数的字典\n",
    "    labelCounts = {}                                \n",
    "    #对每组特征向量进行统计\n",
    "    for featVec in dataSet:                         \n",
    "        currentLabel = featVec[-1]  \n",
    "        #如果标签(Label)没有放入统计次数的字典,添加进去\n",
    "        if currentLabel not in labelCounts.keys():  \n",
    "            labelCounts[currentLabel] = 0\n",
    "        labelCounts[currentLabel] += 1 \n",
    "    #经验熵(香农熵)\n",
    "    shannonEnt = 0.0     \n",
    "    #计算香农熵\n",
    "    for key in labelCounts:  \n",
    "        #选择该标签(Label)的概率\n",
    "        prob = float(labelCounts[key]) / numEntires \n",
    "        shannonEnt -= prob * log(prob, 2)           \n",
    "    return shannonEnt                               "
   ]
  },
  {
   "cell_type": "code",
   "execution_count": 19,
   "metadata": {},
   "outputs": [],
   "source": [
    "def createDataSet():\n",
    "    dataSet = [[0, 0, 0, 0, 'no'],\n",
    "            [0, 0, 0, 1, 'no'],\n",
    "            [0, 1, 0, 1, 'yes'],\n",
    "            [0, 1, 1, 0, 'yes'],\n",
    "            [0, 0, 0, 0, 'no'],\n",
    "            [1, 0, 0, 0, 'no'],\n",
    "            [1, 0, 0, 1, 'no'],\n",
    "            [1, 1, 1, 1, 'yes'],\n",
    "            [1, 0, 1, 2, 'yes'],\n",
    "            [1, 0, 1, 2, 'yes'],\n",
    "            [2, 0, 1, 2, 'yes'],\n",
    "            [2, 0, 1, 1, 'yes'],\n",
    "            [2, 1, 0, 1, 'yes'],\n",
    "            [2, 1, 0, 2, 'yes'],\n",
    "            [2, 0, 0, 0, 'no']]\n",
    "    labels = ['年龄', '有工作', '有自己的房子', '信贷情况']\n",
    "    return dataSet, labels     "
   ]
  },
  {
   "cell_type": "code",
   "execution_count": 20,
   "metadata": {},
   "outputs": [],
   "source": [
    "myDat,babels = createDataSet()"
   ]
  },
  {
   "cell_type": "code",
   "execution_count": 21,
   "metadata": {},
   "outputs": [
    {
     "data": {
      "text/plain": [
       "0.9709505944546686"
      ]
     },
     "execution_count": 21,
     "metadata": {},
     "output_type": "execute_result"
    }
   ],
   "source": [
    "calcShannonEnt(myDat)"
   ]
  },
  {
   "cell_type": "markdown",
   "metadata": {},
   "source": [
    "### 划分数据集"
   ]
  },
  {
   "cell_type": "code",
   "execution_count": 22,
   "metadata": {},
   "outputs": [],
   "source": [
    "# 按照给定特征划分数据集\n",
    "def splitDataSet(dataSet, axis, value):\n",
    "    #创建返回的数据集列表\n",
    "    retDataSet = []    \n",
    "    #遍历数据集\n",
    "    for featVec in dataSet:                        \n",
    "        if featVec[axis] == value:\n",
    "            #去掉axis特征\n",
    "            reducedFeatVec = featVec[:axis]        \n",
    "            reducedFeatVec.extend(featVec[axis+1:])\n",
    "            #将符合条件的添加到返回的数据集\n",
    "            retDataSet.append(reducedFeatVec)\n",
    "    return retDataSet                              "
   ]
  },
  {
   "cell_type": "code",
   "execution_count": 23,
   "metadata": {},
   "outputs": [],
   "source": [
    "# 选择最好的数据集划分方式\n",
    "def chooseBestFeatureToSplit(dataSet):\n",
    "    #特征数量\n",
    "    numFeatures = len(dataSet[0]) - 1      \n",
    "    #计算数据集的香农熵\n",
    "    baseEntropy = calcShannonEnt(dataSet)       \n",
    "    #信息增益\n",
    "    bestInfoGain = 0.0  \n",
    "    #最优特征的索引值\n",
    "    bestFeature = -1   \n",
    "    #遍历所有特征\n",
    "    for i in range(numFeatures):                          \n",
    "        #获取dataSet的第i个所有特征\n",
    "        featList = [example[i] for example in dataSet]\n",
    "        uniqueVals = set(featList)      \n",
    "        #经验条件熵\n",
    "        newEntropy = 0.0         \n",
    "        #计算信息增益\n",
    "        for value in uniqueVals:      \n",
    "            #subDataSet划分后的子集\n",
    "            subDataSet = splitDataSet(dataSet, i, value)  \n",
    "            #计算子集的概率\n",
    "            prob = len(subDataSet) / float(len(dataSet))   \n",
    "            #根据公式计算经验条件熵\n",
    "            newEntropy += prob * calcShannonEnt(subDataSet)\n",
    "        #信息增益\n",
    "        infoGain = baseEntropy - newEntropy               \n",
    "        print(\"第%d个特征的增益为%.3f\" % (i, infoGain))     \n",
    "        if (infoGain > bestInfoGain):                      \n",
    "            bestInfoGain = infoGain   \n",
    "            #记录信息增益最大的特征的索引值\n",
    "            bestFeature = i                                \n",
    "    return bestFeature                                     "
   ]
  },
  {
   "cell_type": "markdown",
   "metadata": {},
   "source": [
    "### 递归构建决策树"
   ]
  },
  {
   "cell_type": "code",
   "execution_count": 24,
   "metadata": {},
   "outputs": [],
   "source": [
    "# 统计classList中出现次数最多的元素(类标签)\n",
    "def majorityCnt(classList):\n",
    "    classCount = {}\n",
    "    #统计classList中每个元素出现的次数\n",
    "    for vote in classList:\n",
    "        if vote not in classCount.keys():classCount[vote] = 0\n",
    "        classCount[vote] += 1\n",
    "    #根据字典的值降序排序\n",
    "    sortedClassCount = sorted(classCount.items(), key = operator.itemgetter(1), reverse = True)\n",
    "    #返回classList中出现次数最多的元素\n",
    "    return sortedClassCount[0][0]"
   ]
  },
  {
   "cell_type": "code",
   "execution_count": 25,
   "metadata": {},
   "outputs": [],
   "source": [
    "# 创建决策树\n",
    "def createTree(dataSet, labels, featLabels):\n",
    "    #取分类标签(是否放贷:yes or no)\n",
    "    classList = [example[-1] for example in dataSet]     \n",
    "    #如果类别完全相同则停止继续划分\n",
    "    if classList.count(classList[0]) == len(classList):    \n",
    "        return classList[0]\n",
    "    #遍历完所有特征时返回出现次数最多的类标签\n",
    "    if len(dataSet[0]) == 1:                               \n",
    "        return majorityCnt(classList)\n",
    "    #选择最优特征\n",
    "    bestFeat = chooseBestFeatureToSplit(dataSet)   \n",
    "    #最优特征的标签\n",
    "    bestFeatLabel = labels[bestFeat]                       \n",
    "    featLabels.append(bestFeatLabel)\n",
    "    #根据最优特征的标签生成树\n",
    "    myTree = {bestFeatLabel:{}}  \n",
    "    #删除已经使用特征标签\n",
    "    del(labels[bestFeat])                       \n",
    "    #得到训练集中所有最优特征的属性值\n",
    "    featValues = [example[bestFeat] for example in dataSet]\n",
    "    #去掉重复的属性值\n",
    "    uniqueVals = set(featValues)\n",
    "    #遍历特征，创建决策树。\n",
    "    for value in uniqueVals:                               \n",
    "        myTree[bestFeatLabel][value] = createTree(splitDataSet(dataSet, bestFeat, value), labels, featLabels)\n",
    "    return myTree"
   ]
  },
  {
   "cell_type": "markdown",
   "metadata": {},
   "source": [
    "### 构造注解树"
   ]
  },
  {
   "cell_type": "code",
   "execution_count": 26,
   "metadata": {},
   "outputs": [],
   "source": [
    "# 获取决策树叶子结点的数目\n",
    "def getNumLeafs(myTree):\n",
    "    numLeafs = 0                                   \n",
    "    firstStr = next(iter(myTree))\n",
    "    #获取下一组字典\n",
    "    secondDict = myTree[firstStr]                 \n",
    "    for key in secondDict.keys():\n",
    "        #测试该结点是否为字典，如果不是字典，代表此结点为叶子结点\n",
    "        if type(secondDict[key]).__name__=='dict':\n",
    "            numLeafs += getNumLeafs(secondDict[key])\n",
    "        else:   numLeafs +=1\n",
    "    return numLeafs"
   ]
  },
  {
   "cell_type": "code",
   "execution_count": 27,
   "metadata": {},
   "outputs": [],
   "source": [
    "# 获取决策树的层数\n",
    "def getTreeDepth(myTree):\n",
    "    #决策树深度\n",
    "    maxDepth = 0                                          \n",
    "    firstStr = next(iter(myTree))\n",
    "    secondDict = myTree[firstStr]                         \n",
    "    for key in secondDict.keys():\n",
    "        if type(secondDict[key]).__name__=='dict':        \n",
    "            thisDepth = 1 + getTreeDepth(secondDict[key])\n",
    "        else:   thisDepth = 1\n",
    "        #更新层数\n",
    "        if thisDepth > maxDepth: maxDepth = thisDepth     \n",
    "    return maxDepth"
   ]
  },
  {
   "cell_type": "code",
   "execution_count": 28,
   "metadata": {},
   "outputs": [],
   "source": [
    "# 绘制结点\n",
    "def plotNode(nodeTxt, centerPt, parentPt, nodeType):\n",
    "    #定义箭头格式\n",
    "    arrow_args = dict(arrowstyle=\"<-\") \n",
    "    #绘制结点\n",
    "    createPlot.ax1.annotate(nodeTxt, xy=parentPt,  xycoords='axes fraction',\n",
    "        xytext=centerPt, textcoords='axes fraction',\n",
    "        va=\"center\", ha=\"center\", bbox=nodeType, arrowprops=arrow_args)"
   ]
  },
  {
   "cell_type": "code",
   "execution_count": 29,
   "metadata": {},
   "outputs": [],
   "source": [
    "# 标注有向边属性值\n",
    "def plotMidText(cntrPt, parentPt, txtString):\n",
    "    #计算标注位置\n",
    "    xMid = (parentPt[0]-cntrPt[0])/2.0 + cntrPt[0]\n",
    "    yMid = (parentPt[1]-cntrPt[1])/2.0 + cntrPt[1]\n",
    "    createPlot.ax1.text(xMid, yMid, txtString, va=\"center\", ha=\"center\", rotation=30)"
   ]
  },
  {
   "cell_type": "code",
   "execution_count": 30,
   "metadata": {},
   "outputs": [],
   "source": [
    "# 绘制决策树\n",
    "def plotTree(myTree, parentPt, nodeTxt):\n",
    "    #设置结点格式\n",
    "    decisionNode = dict(boxstyle=\"sawtooth\", fc=\"0.8\")    \n",
    "     #设置叶结点格式\n",
    "    leafNode = dict(boxstyle=\"round4\", fc=\"0.8\")                                        \n",
    "    numLeafs = getNumLeafs(myTree)                                                       \n",
    "    depth = getTreeDepth(myTree)                                                         \n",
    "    firstStr = next(iter(myTree))                                                        \n",
    "    cntrPt = (plotTree.xOff + (1.0 + float(numLeafs))/2.0/plotTree.totalW, plotTree.yOff)\n",
    "    plotMidText(cntrPt, parentPt, nodeTxt)                                               \n",
    "    plotNode(firstStr, cntrPt, parentPt, decisionNode)                                  \n",
    "    secondDict = myTree[firstStr]                                                         \n",
    "    plotTree.yOff = plotTree.yOff - 1.0/plotTree.totalD                                  \n",
    "    for key in secondDict.keys():\n",
    "        if type(secondDict[key]).__name__=='dict':                                        \n",
    "            plotTree(secondDict[key],cntrPt,str(key))                                    \n",
    "        else:                                                                            \n",
    "            plotTree.xOff = plotTree.xOff + 1.0/plotTree.totalW\n",
    "            plotNode(secondDict[key], (plotTree.xOff, plotTree.yOff), cntrPt, leafNode)\n",
    "            plotMidText((plotTree.xOff, plotTree.yOff), cntrPt, str(key))\n",
    "    plotTree.yOff = plotTree.yOff + 1.0/plotTree.totalD"
   ]
  },
  {
   "cell_type": "code",
   "execution_count": 31,
   "metadata": {},
   "outputs": [],
   "source": [
    "# 创建绘制面板\n",
    "def createPlot(inTree):\n",
    "    #创建fig\n",
    "    fig = plt.figure(1, facecolor='white')   \n",
    "    #清空fig\n",
    "    fig.clf()                                                 \n",
    "    axprops = dict(xticks=[], yticks=[])\n",
    "    #去掉x、y轴\n",
    "    createPlot.ax1 = plt.subplot(111, frameon=False, **axprops)\n",
    "    #获取决策树叶结点数目\n",
    "    plotTree.totalW = float(getNumLeafs(inTree))     \n",
    "    #获取决策树层数\n",
    "    plotTree.totalD = float(getTreeDepth(inTree))  \n",
    "    #x偏移\n",
    "    plotTree.xOff = -0.5/plotTree.totalW; plotTree.yOff = 1.0; \n",
    "    #绘制决策树\n",
    "    plotTree(inTree, (0.5,1.0), '')    \n",
    "    #显示绘制结果\n",
    "    plt.show()                                                 "
   ]
  },
  {
   "cell_type": "code",
   "execution_count": 34,
   "metadata": {},
   "outputs": [
    {
     "name": "stdout",
     "output_type": "stream",
     "text": [
      "第0个特征的增益为0.083\n",
      "第1个特征的增益为0.324\n",
      "第2个特征的增益为0.420\n",
      "第3个特征的增益为0.363\n",
      "第0个特征的增益为0.252\n",
      "第1个特征的增益为0.918\n",
      "第2个特征的增益为0.474\n",
      "{'有自己的房子': {0: {'有工作': {0: 'no', 1: 'yes'}}, 1: 'yes'}}\n"
     ]
    },
    {
     "data": {
      "image/png": "[encoded data removed]",
      "text/plain": [
       "<Figure size 432x288 with 1 Axes>"
      ]
     },
     "metadata": {},
     "output_type": "display_data"
    }
   ],
   "source": [
    "dataSet, labels = createDataSet()\n",
    "featLabels = []\n",
    "myTree = createTree(dataSet, labels, featLabels)\n",
    "print(myTree)\n",
    "createPlot(myTree)"
   ]
  },
  {
   "cell_type": "markdown",
   "metadata": {},
   "source": [
    "### 使用决策时进行分类"
   ]
  },
  {
   "cell_type": "code",
   "execution_count": 35,
   "metadata": {},
   "outputs": [],
   "source": [
    "# 使用决策树分类\n",
    "def classify(inputTree, featLabels, testVec):\n",
    "    #获取决策树结点\n",
    "    firstStr = next(iter(inputTree))  \n",
    "    #下一个字典\n",
    "    secondDict = inputTree[firstStr]      \n",
    "    featIndex = featLabels.index(firstStr)\n",
    "    for key in secondDict.keys():\n",
    "        if testVec[featIndex] == key:\n",
    "            if type(secondDict[key]).__name__ == 'dict':\n",
    "                classLabel = classify(secondDict[key], featLabels, testVec)\n",
    "            else: classLabel = secondDict[key]\n",
    "    return classLabel"
   ]
  },
  {
   "cell_type": "code",
   "execution_count": 36,
   "metadata": {},
   "outputs": [],
   "source": [
    "import pickle\n",
    "\n",
    "# 函数说明:存储决策树\n",
    "def storeTree(inputTree, filename):\n",
    "    with open(filename, 'wb') as fw:\n",
    "        pickle.dump(inputTree, fw)"
   ]
  },
  {
   "cell_type": "code",
   "execution_count": 42,
   "metadata": {},
   "outputs": [],
   "source": [
    "# 读取决策树\n",
    "def grabTree(filename):\n",
    "    fr = open(filename, 'rb')\n",
    "    return pickle.load(fr)"
   ]
  },
  {
   "cell_type": "code",
   "execution_count": 43,
   "metadata": {},
   "outputs": [
    {
     "data": {
      "text/plain": [
       "{'有自己的房子': {0: {'有工作': {0: 'no', 1: 'yes'}}, 1: 'yes'}}"
      ]
     },
     "execution_count": 43,
     "metadata": {},
     "output_type": "execute_result"
    }
   ],
   "source": [
    "storeTree(myTree,'./classifierStorage.txt')\n",
    "grabTree('./classifierStorage.txt')"
   ]
  },
  {
   "cell_type": "markdown",
   "metadata": {},
   "source": [
    "## 使用决策树预测隐形眼镜类型"
   ]
  },
  {
   "cell_type": "code",
   "execution_count": 41,
   "metadata": {},
   "outputs": [
    {
     "name": "stdout",
     "output_type": "stream",
     "text": [
      "['no lenses', 'soft', 'no lenses', 'hard', 'no lenses', 'soft', 'no lenses', 'hard', 'no lenses', 'soft', 'no lenses', 'hard', 'no lenses', 'soft', 'no lenses', 'no lenses', 'no lenses', 'no lenses', 'no lenses', 'hard', 'no lenses', 'soft', 'no lenses', 'no lenses']\n"
     ]
    },
    {
     "data": {
      "image/png": "[encoded data removed]",
      "text/plain": [
       "<Figure size 432x288 with 1 Axes>"
      ]
     },
     "metadata": {
      "needs_background": "light"
     },
     "output_type": "display_data"
    }
   ],
   "source": [
    "from sklearn.preprocessing import LabelEncoder, OneHotEncoder\n",
    "from sklearn import tree\n",
    "import pandas as pd\n",
    "\n",
    "with open('./lenses.txt', 'r') as fr:                              \n",
    "    lenses = [inst.strip().split('\\t') for inst in fr.readlines()]\n",
    "#提取每组数据的类别，保存在列表里\n",
    "lenses_target = []                                                \n",
    "for each in lenses:\n",
    "    lenses_target.append(each[-1])\n",
    "print(lenses_target)\n",
    "#特征标签\n",
    "lensesLabels = ['age', 'prescript', 'astigmatic', 'tearRate']  \n",
    "#保存lenses数据的临时列表\n",
    "lenses_list = []     \n",
    "#保存lenses数据的字典，用于生成pandas\n",
    "lenses_dict = {}          \n",
    "#提取信息，生成字典\n",
    "for each_label in lensesLabels:                                   \n",
    "    for each in lenses:\n",
    "        lenses_list.append(each[lensesLabels.index(each_label)])\n",
    "    lenses_dict[each_label] = lenses_list\n",
    "    lenses_list = []\n",
    "\n",
    "#生成pandas.DataFrame\n",
    "lenses_pd = pd.DataFrame(lenses_dict)                                                                           \n",
    "#创建LabelEncoder()对象，用于序列化\n",
    "le = LabelEncoder()                                               \n",
    "#序列化\n",
    "for col in lenses_pd.columns:                                     \n",
    "    lenses_pd[col] = le.fit_transform(lenses_pd[col])\n",
    "\n",
    "#创建DecisionTreeClassifier()类\n",
    "clf = tree.DecisionTreeClassifier(max_depth = 4)                  \n",
    "tree.plot_tree(clf.fit(lenses_pd.values.tolist(), lenses_target), filled=True)\n",
    "plt.show()"
   ]
  }
 ],
 "metadata": {
  "kernelspec": {
   "display_name": "Python 3",
   "language": "python",
   "name": "python3"
  },
  "language_info": {
   "codemirror_mode": {
    "name": "ipython",
    "version": 3
   },
   "file_extension": ".py",
   "mimetype": "text/x-python",
   "name": "python",
   "nbconvert_exporter": "python",
   "pygments_lexer": "ipython3",
   "version": "3.7.6"
  }
 },
 "nbformat": 4,
 "nbformat_minor": 4
}
