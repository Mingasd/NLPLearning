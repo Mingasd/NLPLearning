{
 "cells": [
  {
   "cell_type": "markdown",
   "metadata": {},
   "source": [
    "## 文本分类"
   ]
  },
  {
   "cell_type": "markdown",
   "metadata": {},
   "source": [
    "### 从文本构建词向量"
   ]
  },
  {
   "cell_type": "code",
   "execution_count": 25,
   "metadata": {},
   "outputs": [],
   "source": [
    "import numpy as np\n",
    "import re\n",
    "import random"
   ]
  },
  {
   "cell_type": "code",
   "execution_count": 4,
   "metadata": {},
   "outputs": [],
   "source": [
    "# 创建一些实验样本\n",
    "def loadDataSet():\n",
    "    postingList=[['my', 'dog', 'has', 'flea', 'problems', 'help', 'please'],       #切分的词条\n",
    "                 ['maybe', 'not', 'take', 'him', 'to', 'dog', 'park', 'stupid'],\n",
    "                 ['my', 'dalmation', 'is', 'so', 'cute', 'I', 'love', 'him'],\n",
    "                 ['stop', 'posting', 'stupid', 'worthless', 'garbage'],\n",
    "                 ['mr', 'licks', 'ate', 'my', 'steak', 'how', 'to', 'stop', 'him'],\n",
    "                 ['quit', 'buying', 'worthless', 'dog', 'food', 'stupid']]\n",
    "    #类别标签向量，1代表侮辱性词汇，0代表不是\n",
    "    classVec = [0,1,0,1,0,1]\n",
    "    return postingList,classVec"
   ]
  },
  {
   "cell_type": "code",
   "execution_count": 5,
   "metadata": {},
   "outputs": [],
   "source": [
    "# 创建词汇表\n",
    "def createVocabList(dataSet):\n",
    "    vocabSet = set([])                      \n",
    "    for document in dataSet:\n",
    "        #取并集\n",
    "        vocabSet = vocabSet | set(document) \n",
    "    return list(vocabSet)"
   ]
  },
  {
   "cell_type": "code",
   "execution_count": 6,
   "metadata": {},
   "outputs": [],
   "source": [
    "# 将inputSet向量化\n",
    "def setOfWords2Vec(vocabList, inputSet):\n",
    "    #创建一个其中所含元素都为0的向量\n",
    "    returnVec = [0] * len(vocabList)      \n",
    "    #遍历每个词条\n",
    "    for word in inputSet:  \n",
    "        #如果词条存在于词汇表中，则置1\n",
    "        if word in vocabList:                                      \n",
    "            returnVec[vocabList.index(word)] = 1\n",
    "        else: print(\"the word: %s is not in my Vocabulary!\" % word)\n",
    "    return returnVec                                               "
   ]
  },
  {
   "cell_type": "code",
   "execution_count": 7,
   "metadata": {},
   "outputs": [],
   "source": [
    "listOPosts,listClasses = loadDataSet()"
   ]
  },
  {
   "cell_type": "code",
   "execution_count": 13,
   "metadata": {},
   "outputs": [
    {
     "data": {
      "text/plain": [
       "[1,\n",
       " 1,\n",
       " 0,\n",
       " 0,\n",
       " 1,\n",
       " 0,\n",
       " 0,\n",
       " 0,\n",
       " 0,\n",
       " 0,\n",
       " 0,\n",
       " 0,\n",
       " 0,\n",
       " 0,\n",
       " 0,\n",
       " 1,\n",
       " 0,\n",
       " 0,\n",
       " 0,\n",
       " 0,\n",
       " 1,\n",
       " 1,\n",
       " 0,\n",
       " 1,\n",
       " 0,\n",
       " 0,\n",
       " 0,\n",
       " 0,\n",
       " 0,\n",
       " 0,\n",
       " 0,\n",
       " 0]"
      ]
     },
     "execution_count": 13,
     "metadata": {},
     "output_type": "execute_result"
    }
   ],
   "source": [
    "myVocabList = createVocabList(listOPosts)\n",
    "setOfWords2Vec(myVocabList,listOPosts[0])"
   ]
  },
  {
   "cell_type": "markdown",
   "metadata": {},
   "source": [
    "### 从词向量训练概率"
   ]
  },
  {
   "cell_type": "code",
   "execution_count": 10,
   "metadata": {},
   "outputs": [],
   "source": [
    "# 朴素贝叶斯训练函数\n",
    "def trainNB0(trainMatrix,trainCategory):\n",
    "    #计算训练的文档数目\n",
    "    numTrainDocs = len(trainMatrix)  \n",
    "     #计算每篇文档的词条数\n",
    "    numWords = len(trainMatrix[0])     \n",
    "    #文档属于侮辱类的概率\n",
    "    pAbusive = sum(trainCategory)/float(numTrainDocs)   \n",
    "    #创建numpy.zeros数组,词条出现数初始化为0\n",
    "    p0Num = np.zeros(numWords); p1Num = np.zeros(numWords)\n",
    "    #分母初始化为0\n",
    "    p0Denom = 0.0; p1Denom = 0.0    \n",
    "    for i in range(numTrainDocs):\n",
    "        #统计属于侮辱类的条件概率所需的数据，即P(w0|1),P(w1|1),P(w2|1)···\n",
    "        if trainCategory[i] == 1:   \n",
    "            p1Num += trainMatrix[i]\n",
    "            p1Denom += sum(trainMatrix[i])\n",
    "        else:                      \n",
    "            #统计属于非侮辱类的条件概率所需的数据，即P(w0|0),P(w1|0),P(w2|0)···\n",
    "            p0Num += trainMatrix[i]\n",
    "            p0Denom += sum(trainMatrix[i])\n",
    "    p1Vect = p1Num/p1Denom\n",
    "    p0Vect = p0Num/p0Denom\n",
    "    #返回属于侮辱类的条件概率数组，属于非侮辱类的条件概率数组，文档属于侮辱类的概率\n",
    "    return p0Vect,p1Vect,pAbusive"
   ]
  },
  {
   "cell_type": "code",
   "execution_count": 11,
   "metadata": {},
   "outputs": [],
   "source": [
    "# 朴素贝叶斯分类器分类函数\n",
    "def classifyNB(vec2Classify, p0Vec, p1Vec, pClass1):\n",
    "    #对应元素相乘。logA * B = logA + logB，\n",
    "    p1 = sum(vec2Classify * p1Vec) + np.log(pClass1)      \n",
    "    #所以这里加上log(pClass1)\n",
    "    p0 = sum(vec2Classify * p0Vec) + np.log(1.0 - pClass1)\n",
    "    if p1 > p0:\n",
    "        return 1\n",
    "    else:\n",
    "        return 0"
   ]
  },
  {
   "cell_type": "markdown",
   "metadata": {},
   "source": [
    "## 使用朴素贝叶斯过滤垃圾邮件"
   ]
  },
  {
   "cell_type": "code",
   "execution_count": 12,
   "metadata": {},
   "outputs": [],
   "source": [
    "# 接收一个大字符串并将其解析为字符串列表\n",
    "def textParse(bigString):    \n",
    "    #将字符串转换为字符列表\n",
    "    listOfTokens = re.split(r'\\W*', bigString)                  \n",
    "    return [tok.lower() for tok in listOfTokens if len(tok) > 2]"
   ]
  },
  {
   "cell_type": "code",
   "execution_count": 46,
   "metadata": {},
   "outputs": [],
   "source": [
    "# 测试朴素贝叶斯分类器\n",
    "def spamTest():\n",
    "    docList = []; classList = []; fullText = []\n",
    "    #遍历25个txt文件\n",
    "    try:\n",
    "        for i in range(1, 26):                                             \n",
    "            wordList = textParse(open('./email/spam/%d.txt' % i, 'r',encoding = 'UTF-8').read())\n",
    "            docList.append(wordList)\n",
    "            fullText.append(wordList)\n",
    "            #标记垃圾邮件，1表示垃圾文件\n",
    "            classList.append(1)                                            \n",
    "            wordList = textParse(open('./email/ham/%d.txt' % i, 'r',encoding = 'UTF-8').read()) \n",
    "            docList.append(wordList)\n",
    "            fullText.append(wordList)\n",
    "            #标记非垃圾邮件，1表示垃圾文件\n",
    "            classList.append(0) \n",
    "    except UnicodeDecodeError:\n",
    "        print(i)\n",
    "    #创建词汇表，不重复\n",
    "    vocabList = createVocabList(docList)       \n",
    "    #创建存储训练集的索引值的列表和测试集的索引值的列表\n",
    "    trainingSet = list(range(50)); testSet = []\n",
    "    #从50个邮件中，随机挑选出40个作为训练集,10个做测试集\n",
    "    for i in range(10):\n",
    "        #随机选取索索引值\n",
    "        randIndex = int(random.uniform(0, len(trainingSet)))   \n",
    "        #添加测试集的索引值\n",
    "        testSet.append(trainingSet[randIndex])      \n",
    "        #在训练集列表中删除添加到测试集的索引值\n",
    "        del(trainingSet[randIndex])    \n",
    "    #创建训练集矩阵和训练集类别标签系向量\n",
    "    trainMat = []; trainClasses = []               \n",
    "    #遍历训练集\n",
    "    for docIndex in trainingSet:  \n",
    "        #将生成的词集模型添加到训练矩阵中\n",
    "        trainMat.append(setOfWords2Vec(vocabList, docList[docIndex]))     \n",
    "        #将类别添加到训练集类别标签系向量中\n",
    "        trainClasses.append(classList[docIndex])                          \n",
    "    #训练朴素贝叶斯模型\n",
    "    p0V, p1V, pSpam = trainNB0(np.array(trainMat), np.array(trainClasses))\n",
    "    #错误分类计数 \n",
    "    errorCount = 0                                                        \n",
    "    #遍历测试集\n",
    "    for docIndex in testSet:                                              \n",
    "         #测试集的词集模型\n",
    "        wordVector = setOfWords2Vec(vocabList, docList[docIndex])        \n",
    "        #如果分类错误\n",
    "        if classifyNB(np.array(wordVector), p0V, p1V, pSpam) != classList[docIndex]:\n",
    "            errorCount += 1                                               \n",
    "            print(\"分类错误的测试集：\",docList[docIndex])\n",
    "    print('错误率：%.2f%%' % (float(errorCount) / len(testSet) * 100))"
   ]
  },
  {
   "cell_type": "code",
   "execution_count": 48,
   "metadata": {},
   "outputs": [],
   "source": [
    "spamTest()"
   ]
  },
  {
   "cell_type": "code",
   "execution_count": null,
   "metadata": {},
   "outputs": [],
   "source": []
  }
 ],
 "metadata": {
  "kernelspec": {
   "display_name": "Python 3",
   "language": "python",
   "name": "python3"
  },
  "language_info": {
   "codemirror_mode": {
    "name": "ipython",
    "version": 3
   },
   "file_extension": ".py",
   "mimetype": "text/x-python",
   "name": "python",
   "nbconvert_exporter": "python",
   "pygments_lexer": "ipython3",
   "version": "3.7.6"
  }
 },
 "nbformat": 4,
 "nbformat_minor": 4
}
