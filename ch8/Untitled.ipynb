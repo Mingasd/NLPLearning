{
 "cells": [
  {
   "cell_type": "code",
   "execution_count": 4,
   "metadata": {},
   "outputs": [],
   "source": [
    "import nltk\n",
    "\n",
    "from nltk import CFG"
   ]
  },
  {
   "cell_type": "code",
   "execution_count": 5,
   "metadata": {},
   "outputs": [],
   "source": [
    "groucho_grammar = CFG.fromstring(\"\"\"\n",
    "                                S -> NP VP\n",
    "                                PP -> P NP\n",
    "                                NP -> Det N | Det N PP | 'I'\n",
    "                                VP -> V NP | VP PP\n",
    "                                Det -> 'an' | 'my'\n",
    "                                N -> 'elephant' | 'pajamas'\n",
    "                                V -> 'shot'\n",
    "                                P -> 'in'\n",
    "                                \"\"\")"
   ]
  },
  {
   "cell_type": "code",
   "execution_count": 6,
   "metadata": {},
   "outputs": [
    {
     "name": "stdout",
     "output_type": "stream",
     "text": [
      "(S\n",
      "  (NP I)\n",
      "  (VP\n",
      "    (VP (V shot) (NP (Det an) (N elephant)))\n",
      "    (PP (P in) (NP (Det my) (N pajamas)))))\n",
      "(S\n",
      "  (NP I)\n",
      "  (VP\n",
      "    (V shot)\n",
      "    (NP (Det an) (N elephant) (PP (P in) (NP (Det my) (N pajamas))))))\n"
     ]
    }
   ],
   "source": [
    "sent = 'I shot an elephant in my pajamas'\n",
    "sent = nltk.word_tokenize(sent)\n",
    "parser = nltk.ChartParser(groucho_grammar)\n",
    "#trees = parser.nbest_parse(sent)\n",
    "# AttributeError:'ChartParser' object has no attribute 'nbest_parse'\n",
    "trees = parser.parse(sent)\n",
    "for tree in trees:\n",
    "    print(tree)"
   ]
  },
  {
   "cell_type": "code",
   "execution_count": 10,
   "metadata": {},
   "outputs": [],
   "source": [
    "grammar1 = CFG.fromstring(\"\"\"\n",
    "                          S -> NP VP\n",
    "                          VP -> V NP | V NP PP\n",
    "                          PP -> P NP\n",
    "                          V -> \"saw\" | \"ate\" | \"walked\"\n",
    "                          NP -> \"John\" | \"Mary\" | \"Bob\" | Det N | Det N PP \n",
    "                          Det -> \"a\" | \"an\" | \"the\" | \"my\"\n",
    "                          N -> \"man\" | \"dog\" | \"cat\" | \"telescope\" | \"park\"\n",
    "                          P -> \"in\" | \"on\" | \"by\" | \"with\"\n",
    "                          \"\"\")"
   ]
  },
  {
   "cell_type": "code",
   "execution_count": 12,
   "metadata": {},
   "outputs": [
    {
     "name": "stdout",
     "output_type": "stream",
     "text": [
      "(S (NP Mary) (VP (V saw) (NP Bob)))\n"
     ]
    }
   ],
   "source": [
    "sent = \"Mary saw Bob\".split()\n",
    "rd_parser = nltk.RecursiveDescentParser(grammar1)\n",
    "for tree in rd_parser.parse(sent):\n",
    "    print(tree)"
   ]
  },
  {
   "cell_type": "markdown",
   "metadata": {},
   "source": [
    "### 句法结构中的递归"
   ]
  },
  {
   "cell_type": "code",
   "execution_count": 15,
   "metadata": {},
   "outputs": [],
   "source": [
    "grammar2 = CFG.fromstring(\"\"\"\n",
    "S ->NPVP\n",
    "NP -> Det Nom | PropN\n",
    "Nom -> Adj Nom | N\n",
    "VP -> V Adj | V NP | V S | V NP PP\n",
    "PP -> P NP\n",
    "PropN -> 'Buster' | 'Chatterer' | 'Joe'\n",
    "Det -> 'the' | 'a'\n",
    "N -> 'bear' | 'squirrel' | 'tree' | 'fish' | 'log'\n",
    "Adj -> 'angry' | 'frightened' | 'little' | 'tall'\n",
    "V -> 'chased' | 'saw' | 'said' | 'thought' | 'was' | 'put' \n",
    "P -> 'on'\n",
    "\"\"\")"
   ]
  },
  {
   "cell_type": "code",
   "execution_count": 17,
   "metadata": {},
   "outputs": [
    {
     "name": "stdout",
     "output_type": "stream",
     "text": [
      "(S (NP Mary) (VP (V saw) (NP (Det a) (N dog))))\n"
     ]
    }
   ],
   "source": [
    "# NLTK提供的递归下降分析器\n",
    "rd_parser = nltk.RecursiveDescentParser(grammar1) \n",
    "sent = 'Mary saw a dog'.split()\n",
    "for t in rd_parser.parse(sent):\n",
    "    print(t)"
   ]
  },
  {
   "cell_type": "code",
   "execution_count": 21,
   "metadata": {},
   "outputs": [
    {
     "name": "stdout",
     "output_type": "stream",
     "text": [
      "(S (NP Mary) (VP (V saw) (NP (Det a) (N dog))))\n"
     ]
    }
   ],
   "source": [
    "sr_parse = nltk.ShiftReduceParser(grammar1)\n",
    "sent = 'Mary saw a dog'.split()\n",
    "for t in sr_parse.parse(sent):\n",
    "    print(t)"
   ]
  },
  {
   "cell_type": "markdown",
   "metadata": {},
   "source": [
    "### 符合语句规则的子串表"
   ]
  },
  {
   "cell_type": "code",
   "execution_count": 22,
   "metadata": {},
   "outputs": [],
   "source": [
    "def init_wfst(tokens, grammar):\n",
    "    numtokens = len(tokens)\n",
    "    wfst = [[None for i in range(numtokens+1)] for j in range(numtokens+1)] \n",
    "    for i in range(numtokens):\n",
    "        productions = grammar.productions(rhs=tokens[i])\n",
    "        wfst[i][i+1] = productions[0].lhs() \n",
    "    return wfst"
   ]
  },
  {
   "cell_type": "code",
   "execution_count": 24,
   "metadata": {},
   "outputs": [],
   "source": [
    "def complete_wfst(wfst, tokens, grammar, trace=False):\n",
    "    index = dict((p.rhs(), p.lhs()) for p in grammar.productions()) \n",
    "    numtokens = len(tokens)\n",
    "    for span in range(2, numtokens+1):\n",
    "        for start in range(numtokens+1-span): \n",
    "            end = start + span\n",
    "            for mid in range(start+1, end):\n",
    "                nt1, nt2 = wfst[start][mid], wfst[mid][end] \n",
    "                if nt1 and nt2 and (nt1,nt2) in index:\n",
    "                    wfst[start][end] = index[(nt1,nt2)] \n",
    "                    if trace:\n",
    "                        print(\"[%s] %3s [%s] %3s [%s] ==> [%s] %3s [%s]\" % (start, nt1, mid, nt2, end, start, index[(nt1,nt2)], end))\n",
    "    return wfst"
   ]
  },
  {
   "cell_type": "code",
   "execution_count": 50,
   "metadata": {},
   "outputs": [],
   "source": [
    "def display(wfst, tokens):\n",
    "    print('\\nWFST ' + ' '.join([(\"%-4d\" % i) for i in range(1, len(wfst))])) \n",
    "    for i in range(len(wfst)-1):\n",
    "        print(\"%d \" % i, end='')\n",
    "        for j in range(1, len(wfst)):\n",
    "            print(\"%-5s\" % (wfst[i][j] or '.'), end='')\n",
    "        print()"
   ]
  },
  {
   "cell_type": "code",
   "execution_count": 51,
   "metadata": {},
   "outputs": [
    {
     "name": "stdout",
     "output_type": "stream",
     "text": [
      "\n",
      "WFST 1    2    3    4    5    6    7   \n",
      "0 NP   .    .    .    .    .    .    \n",
      "1 .    V    .    .    .    .    .    \n",
      "2 .    .    Det  .    .    .    .    \n",
      "3 .    .    .    N    .    .    .    \n",
      "4 .    .    .    .    P    .    .    \n",
      "5 .    .    .    .    .    Det  .    \n",
      "6 .    .    .    .    .    .    N    \n"
     ]
    }
   ],
   "source": [
    "tokens = \"I shot an elephant in my pajamas\".split()\n",
    "wfst0 = init_wfst(tokens, groucho_grammar)\n",
    "display(wfst0, tokens)"
   ]
  },
  {
   "cell_type": "code",
   "execution_count": 52,
   "metadata": {},
   "outputs": [
    {
     "name": "stdout",
     "output_type": "stream",
     "text": [
      "[2] Det [3]   N [4] ==> [2]  NP [4]\n",
      "[5] Det [6]   N [7] ==> [5]  NP [7]\n",
      "[1]   V [2]  NP [4] ==> [1]  VP [4]\n",
      "[4]   P [5]  NP [7] ==> [4]  PP [7]\n",
      "[0]  NP [1]  VP [4] ==> [0]   S [4]\n",
      "[1]  VP [4]  PP [7] ==> [1]  VP [7]\n",
      "[0]  NP [1]  VP [7] ==> [0]   S [7]\n"
     ]
    }
   ],
   "source": [
    "wfst1 = complete_wfst(wfst0, tokens, groucho_grammar, trace=True)"
   ]
  },
  {
   "cell_type": "markdown",
   "metadata": {},
   "source": [
    "### 依存关系和依存文法"
   ]
  },
  {
   "cell_type": "code",
   "execution_count": 54,
   "metadata": {},
   "outputs": [
    {
     "name": "stdout",
     "output_type": "stream",
     "text": [
      "(shot I (elephant an (in (pajamas my))))\n",
      "(shot I (elephant an) (in (pajamas my)))\n"
     ]
    }
   ],
   "source": [
    "from nltk.grammar import DependencyGrammar\n",
    "from nltk.parse import (\n",
    "    DependencyGraph,\n",
    "    ProjectiveDependencyParser,\n",
    "    NonprojectiveDependencyParser,\n",
    "    )\n",
    " \n",
    "sent = 'I shot an elephant in my pajamas'.split()\n",
    "dep_grammar = DependencyGrammar.fromstring(\n",
    "    \"\"\"\n",
    "    'shot' -> 'I' | 'elephant' | 'in'\n",
    "    'elephant' -> 'an' | 'in'\n",
    "    'in' -> 'pajamas'\n",
    "    'pajamas' -> 'my'\n",
    "    \"\"\"\n",
    "    )\n",
    "trees = ProjectiveDependencyParser(dep_grammar).parse(sent)\n",
    "for tr in trees:\n",
    "    print(tr)  \n",
    "trees = ProjectiveDependencyParser(dep_grammar).parse(sent)\n",
    "for tr in trees:\n",
    "    tr.draw()"
   ]
  },
  {
   "cell_type": "code",
   "execution_count": 55,
   "metadata": {},
   "outputs": [
    {
     "name": "stdout",
     "output_type": "stream",
     "text": [
      "(S\n",
      "  (NP-SBJ\n",
      "    (NP (NNP Pierre) (NNP Vinken))\n",
      "    (, ,)\n",
      "    (ADJP (NP (CD 61) (NNS years)) (JJ old))\n",
      "    (, ,))\n",
      "  (VP\n",
      "    (MD will)\n",
      "    (VP\n",
      "      (VB join)\n",
      "      (NP (DT the) (NN board))\n",
      "      (PP-CLR (IN as) (NP (DT a) (JJ nonexecutive) (NN director)))\n",
      "      (NP-TMP (NNP Nov.) (CD 29))))\n",
      "  (. .))\n"
     ]
    }
   ],
   "source": [
    "from nltk.corpus import treebank\n",
    "t = treebank.parsed_sents('wsj_0001.mrg')[0]\n",
    "print(t)"
   ]
  },
  {
   "cell_type": "code",
   "execution_count": 61,
   "metadata": {},
   "outputs": [
    {
     "name": "stdout",
     "output_type": "stream",
     "text": [
      "%-below-level N: ['left'] V: ['be']\n",
      "%-from-year N: ['was'] V: ['declined', 'dropped', 'fell', 'grew', 'increased', 'plunged', 'rose', 'was']\n",
      "%-in-August N: ['was'] V: ['climbed', 'fell', 'leaping', 'rising', 'rose']\n",
      "%-in-September N: ['increased'] V: ['climbed', 'declined', 'dropped', 'edged', 'fell', 'grew', 'plunged', 'rose', 'slipped']\n",
      "%-in-week N: ['declined'] V: ['was']\n",
      "%-to-% N: ['add', 'added', 'backed', 'be', 'cut', 'go', 'grow', 'increased', 'increasing', 'is', 'offer', 'plummet', 'reduce', 'rejected', 'rise', 'risen', 'shaved', 'wants', 'yield', 'zapping'] V: ['fell', 'rise', 'slipped']\n",
      "%-to-million N: ['declining'] V: ['advanced', 'climbed', 'cutting', 'declined', 'declining', 'dived', 'dropped', 'edged', 'fell', 'gained', 'grew', 'increased', 'jump', 'jumped', 'plunged', 'rising', 'rose', 'slid', 'slipped', 'soared', 'tumbled']\n",
      "1-to-21 N: ['dropped'] V: ['dropped']\n",
      "1-to-33 N: ['gained'] V: ['dropped', 'fell', 'jumped']\n",
      "1-to-4 N: ['added'] V: ['gained']\n",
      "1-to-47 N: ['jumped'] V: ['added', 'rose']\n",
      "1-to-point N: ['ended'] V: ['fell', 'rose']\n",
      "3-to-17 N: ['lost'] V: ['lost']\n",
      "500,000-in-fines N: ['paid'] V: ['paid']\n",
      "6.9-on-scale N: ['registered'] V: ['registered']\n",
      "access-to-AZT N: ['had'] V: ['had']\n",
      "access-to-arena N: ['permits'] V: ['lack']\n",
      "activity-in-part N: ['showed'] V: ['attributed']\n",
      "agreement-in-principle N: ['reached'] V: ['reached']\n",
      "agreement-with-Inc. N: ['announced', 'signed'] V: ['signed']\n",
      "agreement-with-creditors N: ['reached'] V: ['nearing']\n",
      "agreement-with-regulators N: ['presages', 'reach'] V: ['reach']\n",
      "aid-to-Contras N: ['renewing'] V: ['renewing']\n",
      "alliance-with-GM N: ['discussing', 'wrapping'] V: ['forge', 'have', 'negotiating']\n",
      "approval-for-drug N: ['granted'] V: ['obtain']\n",
      "attention-to-comments N: ['paid'] V: ['paid']\n",
      "attention-to-concerns N: ['pay'] V: ['show']\n",
      "attention-to-reports N: ['paid'] V: ['pay']\n",
      "bid-for-company N: ['fend', 'launch'] V: ['made', 'make']\n",
      "bid-for-million N: ['finance'] V: ['had']\n",
      "bids-for-company N: ['submitted'] V: ['solicit']\n",
      "billion-in-cash N: ['pay', 'raise'] V: ['raise']\n",
      "billion-of-bills N: ['sell', 'sold'] V: ['sold']\n",
      "billion-over-years N: ['total'] V: ['spent']\n",
      "billion-to-billion N: ['cause', 'place'] V: ['increased', 'rose']\n",
      "business-to-firms N: ['cutting'] V: ['give', 'transfer']\n",
      "business-with-them N: ['cease'] V: ['do']\n",
      "cap-on-amount N: ['eliminate'] V: ['places']\n",
      "cents-to-cents N: ['be', 'recovering'] V: ['fell', 'rose']\n",
      "change-in-earnings N: ['had'] V: ['had']\n",
      "changes-for-% N: ['measures'] V: ['measures', 'monitors']\n",
      "charge-in-quarter N: ['took'] V: ['had', 'included', 'incur', 'take', 'took']\n",
      "collar-on-trading N: ['re-establishing'] V: ['reinstating']\n",
      "commitments-from-banks N: ['secured', 'won'] V: ['obtained']\n",
      "competition-from-competitors N: ['faced'] V: ['fend']\n",
      "competition-in-production N: ['reduce'] V: ['reduce']\n",
      "contract-for-parts N: ['awarded', 'given', 'won'] V: ['received']\n",
      "contract-for-support N: ['awarded', 'issued'] V: ['received']\n",
      "contract-from-Co. N: ['received'] V: ['won']\n",
      "contract-with-Warner N: ['violates'] V: ['terminate']\n",
      "control-of-Inc. N: ['took'] V: ['seek']\n",
      "decline-for-quarter N: ['posted'] V: ['reported']\n",
      "decline-in-August N: ['followed', 'following', 'recorded'] V: ['following']\n",
      "decline-in-earnings N: ['alleviate', 'report', 'reported'] V: ['expects']\n",
      "declines-in-prices N: ['reflect'] V: ['had']\n",
      "disputes-with-company N: ['resolve'] V: ['resolve']\n",
      "domestic-production-through-July N: ['includes'] V: ['includes']\n",
      "drop-in-earnings N: ['posted'] V: ['posted']\n",
      "drop-in-profit N: ['experienced', 'had', 'posted', 'reported', 'reporting'] V: ['posted']\n",
      "earnings-for-companies N: ['reported'] V: ['reported']\n",
      "earnings-for-quarter N: ['posting'] V: ['posted', 'report', 'reported']\n",
      "earnings-in-quarter N: ['projecting'] V: ['had']\n",
      "earnings-of-million N: ['had', 'include', 'posted', 'reported'] V: ['reported']\n",
      "effect-on-market N: ['had'] V: ['had']\n",
      "emphasis-on-quality N: ['be'] V: ['place']\n",
      "financing-for-buy-out N: ['deliver', 'get'] V: ['obtaining']\n",
      "floor-for-price N: ['establishes'] V: ['providing']\n",
      "foot-in-door N: ['wanted'] V: ['getting']\n",
      "funding-for-abortion N: ['supporting'] V: ['oppose']\n",
      "funds-for-station N: ['including', 'providing'] V: ['includes']\n",
      "gain-from-sale N: ['included', 'includes'] V: ['a-Includes', 'including', 'record', 'report']\n",
      "gain-in-profit N: ['posted', 'reported'] V: ['posted']\n",
      "head-to-head N: ['going'] V: ['go']\n",
      "impact-on-market N: ['have'] V: ['has', 'have']\n",
      "impact-on-markets N: ['had'] V: ['have']\n",
      "impact-on-results N: ['have'] V: ['have']\n",
      "income-for-quarter N: ['announcing'] V: ['report']\n",
      "increase-in-earnings N: ['reported'] V: ['posted']\n",
      "information-from-companies N: ['requested'] V: ['steal']\n",
      "inquiry-into-activities N: ['conducted'] V: ['drop']\n",
      "interest-in-company N: ['bought', 'have', 'holds', 'owning', 'retain'] V: ['represent']\n",
      "interest-in-metals N: ['create'] V: ['was']\n",
      "interest-on-loans N: ['computing'] V: ['pay']\n",
      "loans-to-China N: ['suspended'] V: ['resuming']\n",
      "loss-for-quarter N: ['announced', 'have', 'post', 'posted', 'reported', 'reporting'] V: ['post', 'report', 'reported']\n",
      "loss-in-quarter N: ['expect', 'had'] V: ['caused', 'had', 'posted', 'took']\n",
      "losses-in-years N: ['reported'] V: ['had']\n",
      "markets-in-stocks N: ['making'] V: ['make']\n",
      "million-before-tax N: ['reported'] V: ['contributed']\n",
      "million-for-initiative N: ['attached'] V: ['add']\n",
      "million-for-stake N: ['pay'] V: ['paid', 'pay', 'putting']\n",
      "million-from-funds N: ['commit'] V: ['raises']\n",
      "million-from-operations N: ['included'] V: ['reported']\n",
      "million-from-sale N: ['including'] V: ['take']\n",
      "million-in-payments N: ['make', 'owes', 'pay', 'receive'] V: ['fallen']\n",
      "million-of-debt N: ['add', 'borrow', 'consolidate', 'convert', 'downgraded', 'includes', 'pay', 'raise'] V: ['assume']\n",
      "million-on-revenue N: ['earned'] V: ['earned', 'was', 'were']\n",
      "million-on-sales N: ['earned'] V: ['earned', 'reach', 'totaled', 'was', 'were']\n",
      "million-to-million N: ['be', 'bills', 'cost', 'pump', 'sell', 'totaled'] V: ['declined', 'fell', 'spend', 'tumbled']\n",
      "month-in-time N: ['delivered'] V: ['delivered']\n",
      "net-on-revenue N: ['posted'] V: ['reported']\n",
      "nothing-about-it N: ['knew'] V: ['doing']\n",
      "offer-for-all N: ['begun', 'make'] V: ['begin']\n",
      "offer-for-shares N: ['began', 'extended'] V: ['launched', 'made']\n",
      "offer-for-stock N: ['extended'] V: ['make']\n",
      "offer-from-group N: ['rejected'] V: ['received']\n",
      "office-in-Worth N: ['Call'] V: ['has']\n",
      "pace-with-inflation N: ['keep', 'keeping'] V: ['keep']\n",
      "payment-on-million N: ['make'] V: ['make']\n",
      "payments-on-debt N: ['cover', 'make'] V: ['make']\n",
      "president-in-charge N: ['is', 'named'] V: ['been']\n",
      "pressure-on-government N: ['keep'] V: ['keep', 'put']\n",
      "pressure-on-prices N: ['suffered'] V: ['keep', 'put']\n",
      "price-for-incentives N: ['paid'] V: ['paid']\n",
      "prices-on-market N: ['push'] V: ['bring']\n",
      "profit-for-year N: ['report'] V: ['report']\n",
      "profit-from-discontinued N: ['had'] V: ['was']\n",
      "profit-in-quarter N: ['indicates'] V: ['produce', 'recorded']\n",
      "projections-for-year N: ['slashed'] V: ['exceed']\n",
      "provisions-for-loans N: ['taken'] V: ['made']\n",
      "rates-to-% N: ['boosting'] V: ['increase', 'pushed', 'raised']\n",
      "reporter-in-bureau N: ['is'] V: ['is']\n",
      "restrictions-on-use N: ['waiving'] V: ['impose']\n",
      "revenue-for-year N: ['projected'] V: ['had']\n",
      "revenue-in-quarter N: ['expects'] V: ['had']\n",
      "sales-in-excess N: ['combined'] V: ['had']\n",
      "sales-in-quarter N: ['had'] V: ['increasing']\n",
      "sales-of-million N: ['expected', 'had', 'has', 'have', 'posted'] V: ['had']\n",
      "salvo-in-battle N: ['marking'] V: ['marking']\n",
      "services-for-customers N: ['offering'] V: ['provide']\n",
      "shareholder-in-bank N: ['become'] V: ['become']\n",
      "stake-in-Airlines N: ['acquiring', 'buy', 'raise'] V: ['buy']\n",
      "stake-in-Mixte N: ['bring'] V: ['boost']\n",
      "stake-in-Rally N: ['hold'] V: ['had']\n",
      "stake-in-company N: ['bought', 'building', 'built', 'buying', 'give', 'hold', 'obtaining', 'own', 'owns', 'raised', 'take'] V: ['accumulating', 'had', 'has', 'holds', 'own']\n",
      "stake-in-concern N: ['acquires', 'lowered'] V: ['retaining']\n",
      "stake-in-unit N: ['sell'] V: ['acquire']\n",
      "stake-in-venture N: ['has', 'hold', 'holds'] V: ['held']\n",
      "suit-against-Keating N: ['press'] V: ['brought']\n",
      "swings-in-market N: ['cause', 'create'] V: ['cause']\n",
      "system-for-city N: ['design'] V: ['design']\n",
      "system-in-Pakistan N: ['operate'] V: ['operate']\n",
      "time-for-Congress N: ['is'] V: ['buy', 'buys']\n",
      "venture-with-Co. N: ['started'] V: ['started']\n",
      "ventures-with-companies N: ['established'] V: ['form']\n",
      "verdict-in-case N: ['is', 'won'] V: ['won']\n",
      "volatility-in-stocks N: ['ignoring'] V: ['see']\n",
      "vote-on-issue N: ['allow'] V: ['prevent']\n",
      "way-for-declines N: ['open'] V: ['pave']\n",
      "writer-in-York N: ['is'] V: ['is']\n",
      "yen-to-yen N: ['shed'] V: ['advanced', 'fell', 'gained', 'lost', 'rose']\n"
     ]
    }
   ],
   "source": [
    "entries = nltk.corpus.ppattach.attachments('training') \n",
    "table = nltk.defaultdict(lambda: nltk.defaultdict(set)) \n",
    "for entry in entries:\n",
    "    key = entry.noun1 + '-' + entry.prep + '-' + entry.noun2\n",
    "    table[key][entry.attachment].add(entry.verb)\n",
    "\n",
    "for key in sorted(table):\n",
    "    if len(table[key]) > 1:\n",
    "        print(key, 'N:', sorted(table[key]['N']), 'V:', sorted(table[key]['V']))"
   ]
  },
  {
   "cell_type": "code",
   "execution_count": 65,
   "metadata": {},
   "outputs": [],
   "source": [
    "# 加权文法\n",
    "def give(t):\n",
    "    return t.node == 'VP' and len(t) > 2 and t[1].node == 'NP' and (t[2].node == 'PP-DTV' or t[2].node == 'NP') and ('give' in t[0].leaves() or 'gave' in t[0].leaves())\n",
    "def sent(t):\n",
    "    return ' '.join(token for token in t.leaves() if token[0] not in '*-0')\n",
    "def print_node(t, width):\n",
    "    output = \"%s %s: %s / %s: %s\" %(sent(t[0]), t[1].node, sent(t[1]), t[2].node, sent(t[2])) \n",
    "    if len(output) > width:\n",
    "        output = output[:width] + \"...\" \n",
    "    print(output)"
   ]
  },
  {
   "cell_type": "code",
   "execution_count": 67,
   "metadata": {},
   "outputs": [],
   "source": [
    "for tree in nltk.corpus.treebank.parsed_sents():\n",
    "    for t in tree.subtrees(give):\n",
    "        print_node(t, 72)"
   ]
  },
  {
   "cell_type": "code",
   "execution_count": 63,
   "metadata": {},
   "outputs": [],
   "source": [
    "# 概率上下文无关文法\n",
    "grammar = nltk.PCFG.fromstring(\"\"\"\n",
    "S -> NP VP   [1.0]\n",
    "VP -> TV NP  [0.4]\n",
    "VP ->IV      [0.3]\n",
    "VP -> DatV NP NP [0.3]\n",
    "TV -> 'saw'    [1.0]\n",
    "IV -> 'ate'    [1.0]\n",
    "DatV -> 'gave'    [1.0]\n",
    "NP -> 'telescopes' [0.8]\n",
    "NP -> 'Jack'  [0.2]\n",
    "\"\"\")"
   ]
  },
  {
   "cell_type": "code",
   "execution_count": 64,
   "metadata": {},
   "outputs": [
    {
     "name": "stdout",
     "output_type": "stream",
     "text": [
      "Grammar with 9 productions (start state = S)\n",
      "    S -> NP VP [1.0]\n",
      "    VP -> TV NP [0.4]\n",
      "    VP -> IV [0.3]\n",
      "    VP -> DatV NP NP [0.3]\n",
      "    TV -> 'saw' [1.0]\n",
      "    IV -> 'ate' [1.0]\n",
      "    DatV -> 'gave' [1.0]\n",
      "    NP -> 'telescopes' [0.8]\n",
      "    NP -> 'Jack' [0.2]\n"
     ]
    }
   ],
   "source": [
    "print(grammar)"
   ]
  },
  {
   "cell_type": "code",
   "execution_count": null,
   "metadata": {},
   "outputs": [],
   "source": []
  }
 ],
 "metadata": {
  "kernelspec": {
   "display_name": "Python 3",
   "language": "python",
   "name": "python3"
  },
  "language_info": {
   "codemirror_mode": {
    "name": "ipython",
    "version": 3
   },
   "file_extension": ".py",
   "mimetype": "text/x-python",
   "name": "python",
   "nbconvert_exporter": "python",
   "pygments_lexer": "ipython3",
   "version": "3.7.6"
  }
 },
 "nbformat": 4,
 "nbformat_minor": 4
}
