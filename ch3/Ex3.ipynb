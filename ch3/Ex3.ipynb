{
 "cells": [
  {
   "cell_type": "code",
   "execution_count": 3,
   "metadata": {},
   "outputs": [
    {
     "data": {
      "text/plain": [
       "'colourless'"
      ]
     },
     "execution_count": 3,
     "metadata": {},
     "output_type": "execute_result"
    }
   ],
   "source": [
    "# 1\n",
    "s = 'colorless'\n",
    "s=s[:s.index('r')]+'u'+s[s.index('r'):]\n",
    "s"
   ]
  },
  {
   "cell_type": "code",
   "execution_count": 8,
   "metadata": {},
   "outputs": [
    {
     "name": "stdout",
     "output_type": "stream",
     "text": [
      "dish\n",
      "run\n",
      "nation\n",
      "un\n",
      "pre\n"
     ]
    }
   ],
   "source": [
    "# 2\n",
    "words = ['dish-es','run-ning','nation-ality','un-do','pre-heat']\n",
    "for word in words:\n",
    "    print(word[:word.index('-')])"
   ]
  },
  {
   "cell_type": "code",
   "execution_count": 11,
   "metadata": {},
   "outputs": [
    {
     "data": {
      "text/plain": [
       "'9753'"
      ]
     },
     "execution_count": 11,
     "metadata": {},
     "output_type": "execute_result"
    }
   ],
   "source": [
    "# 4\n",
    "monty = \"1234567890\"\n",
    "monty[1:8:2]\n",
    "monty[8:1:-2]\n"
   ]
  },
  {
   "cell_type": "code",
   "execution_count": 14,
   "metadata": {},
   "outputs": [
    {
     "data": {
      "text/plain": [
       "'0987654321'"
      ]
     },
     "execution_count": 14,
     "metadata": {},
     "output_type": "execute_result"
    }
   ],
   "source": [
    "# 5 \n",
    "monty[:-1]\n",
    "monty[::-1] # 逆转列表"
   ]
  },
  {
   "cell_type": "code",
   "execution_count": 18,
   "metadata": {},
   "outputs": [
    {
     "name": "stdout",
     "output_type": "stream",
     "text": [
      "123{asd}456\n",
      "123{asd}456{asd}\n",
      "123asd456asd\n",
      "{Aadsds}123asd456asd\n",
      "{paat}\n",
      "padst\n",
      "padsst\n",
      "{2312.12345}dsa\n"
     ]
    }
   ],
   "source": [
    "# 6\n",
    "import nltk\n",
    "p=r'[a-zA-Z]+'\n",
    "nltk.re_show(p,'123asd456')\n",
    "nltk.re_show(p,'123asd456asd')\n",
    "p='[A-Z][a-z]*'\n",
    "nltk.re_show(p,'123asd456asd')\n",
    "nltk.re_show(p,'Aadsds123asd456asd')\n",
    "p='p[aeiou]{,2}t'\n",
    "nltk.re_show(p,'paat')\n",
    "nltk.re_show(p,'padst')\n",
    "nltk.re_show(p,'padsst')\n",
    "p='\\d+(\\.\\d+)?'\n",
    "nltk.re_show(p,'2312.12345dsa')"
   ]
  },
  {
   "cell_type": "code",
   "execution_count": 22,
   "metadata": {},
   "outputs": [
    {
     "data": {
      "text/plain": [
       "<re.Match object; span=(0, 3), match='the'>"
      ]
     },
     "execution_count": 22,
     "metadata": {},
     "output_type": "execute_result"
    }
   ],
   "source": [
    "# 7\n",
    "import re\n",
    "p = r'a|an|the'\n",
    "re.match(p,\"thedog\")"
   ]
  },
  {
   "cell_type": "code",
   "execution_count": 24,
   "metadata": {},
   "outputs": [
    {
     "data": {
      "text/plain": [
       "<re.Match object; span=(0, 5), match='2*3+8'>"
      ]
     },
     "execution_count": 24,
     "metadata": {},
     "output_type": "execute_result"
    }
   ],
   "source": [
    "p = r'\\d([+*]\\d)*'\n",
    "re.match(p,\"2*3+8\")"
   ]
  },
  {
   "cell_type": "code",
   "execution_count": 26,
   "metadata": {},
   "outputs": [],
   "source": [
    "# 9 \n",
    "#a.\n",
    "pattern = r'''(?x)  # set flag to allow verbose regexps\n",
    "[][.,;\"'?():-_`]        #  these are separate tokens\n",
    "'''\n",
    "nltk.regexp_tokenize(text, pattern)\n",
    "\n",
    "#b.\n",
    "pattern =r'''(?x) # set flag to allow verbose regexps\n",
    "([A-Z]\\.)+ # abbreviations, e.g. U.S.A.\n",
    "| [A-Z][a-z]*\\s[A-Z][a-z]* # words with optional internal\n",
    "| \\$?\\d+(\\.\\d+)?%? # currency and percentages, e.g. $12.40, 82%\n",
    "| \\d+-\\d+-\\d+\n",
    "'''"
   ]
  },
  {
   "cell_type": "code",
   "execution_count": 29,
   "metadata": {},
   "outputs": [
    {
     "data": {
      "text/plain": [
       "[('The', 3),\n",
       " ('dog', 3),\n",
       " ('gave', 4),\n",
       " ('John', 4),\n",
       " ('the', 3),\n",
       " ('newspaper', 9)]"
      ]
     },
     "execution_count": 29,
     "metadata": {},
     "output_type": "execute_result"
    }
   ],
   "source": [
    "# 10\n",
    "sent = ['The','dog','gave','John','the','newspaper']\n",
    "[(w,len(w)) for  w in sent]"
   ]
  },
  {
   "cell_type": "code",
   "execution_count": 32,
   "metadata": {},
   "outputs": [
    {
     "name": "stdout",
     "output_type": "stream",
     "text": [
      "h\n",
      "e\n",
      "l\n",
      "l\n",
      "o\n"
     ]
    }
   ],
   "source": [
    "# 12\n",
    "s = 'hello'\n",
    "for c in s:\n",
    "    print(c)"
   ]
  },
  {
   "cell_type": "code",
   "execution_count": 36,
   "metadata": {},
   "outputs": [
    {
     "name": "stdout",
     "output_type": "stream",
     "text": [
      "['hello', 'word', 'ni', 'hao']\n",
      "['hello', 'word', 'ni', 'hao']\n",
      "['hello', 'word', 'ni', 'hao']\n",
      "['hello', '\\r', 'word', '\\r', '', 'ni', 'hao']\n"
     ]
    }
   ],
   "source": [
    "# 13\n",
    "s = \"hello word ni hao\"\n",
    "print(s.split())\n",
    "print(s.split(\" \"))\n",
    "s1 = \"hello \\r word \\r  ni hao\"\n",
    "print(s1.split())\n",
    "print(s1.split(\" \"))"
   ]
  },
  {
   "cell_type": "code",
   "execution_count": 48,
   "metadata": {},
   "outputs": [
    {
     "data": {
      "text/plain": [
       "['hao', 'hello', 'ni', 'world']"
      ]
     },
     "execution_count": 48,
     "metadata": {},
     "output_type": "execute_result"
    }
   ],
   "source": [
    "# 14\n",
    "words = ['hello','world','ni','hao']\n",
    "words.sort()  # words本身改变\n",
    "# print(words)\n",
    "sorted(words) # words不改变  返回排序过后的列表"
   ]
  },
  {
   "cell_type": "code",
   "execution_count": 49,
   "metadata": {},
   "outputs": [
    {
     "data": {
      "text/plain": [
       "'3333333'"
      ]
     },
     "execution_count": 49,
     "metadata": {},
     "output_type": "execute_result"
    }
   ],
   "source": [
    "# 15\n",
    "'3'*7"
   ]
  },
  {
   "cell_type": "code",
   "execution_count": 53,
   "metadata": {},
   "outputs": [
    {
     "name": "stdout",
     "output_type": "stream",
     "text": [
      "helloword\n",
      "helloword\n"
     ]
    }
   ],
   "source": [
    "# 17\n",
    "s = 'helloword'\n",
    "print('%6s'% s)\n",
    "print('%-6s'% s)"
   ]
  },
  {
   "cell_type": "code",
   "execution_count": 61,
   "metadata": {},
   "outputs": [
    {
     "data": {
      "text/plain": [
       "[]"
      ]
     },
     "execution_count": 61,
     "metadata": {},
     "output_type": "execute_result"
    }
   ],
   "source": [
    "# 18\n",
    "text = nltk.corpus.gutenberg.raw('chesterton-thursday.txt')\n",
    "sorted([w for w in text if w.lower().startswith('wh')])"
   ]
  },
  {
   "cell_type": "code",
   "execution_count": 71,
   "metadata": {},
   "outputs": [
    {
     "data": {
      "text/plain": [
       "[('a', '10'), ('b', '20'), ('c', '30')]"
      ]
     },
     "execution_count": 71,
     "metadata": {},
     "output_type": "execute_result"
    }
   ],
   "source": [
    "# 19\n",
    "result=[]\n",
    "text=['a 10','b 20','c 30']\n",
    "for line in text:\n",
    "    w,x=tuple(line.split())\n",
    "    result.append((w,x))\n",
    "result"
   ]
  },
  {
   "cell_type": "code",
   "execution_count": 77,
   "metadata": {},
   "outputs": [],
   "source": [
    "# 20\n",
    "from urllib.request import urlopen\n",
    "def dealhtml(url):\n",
    "\n",
    "    html=urlopen(url).read()\n",
    "\n",
    "    raw=nltk.clean_html(str(html))\n",
    "  \n",
    "    tokens=nltk.word_tokenize(raw)\n",
    "\n",
    "    text=nltk.Text(tokens)\n",
    "\n",
    "    return text      \n",
    "\n",
    "url=\"http://www.weather.com.cn/weather/101020100.shtml\"\n",
    "\n",
    "text=dealhtml(url)"
   ]
  },
  {
   "cell_type": "code",
   "execution_count": 66,
   "metadata": {},
   "outputs": [],
   "source": [
    "# 21\n",
    "def unknown(url):\n",
    "    unknown('http://www.gutenberg.org/files/11/11-h/11-h.htm')\n",
    "    resp=urllib.request.urlopen('http://www.gutenberg.org/files/11/11-h/11-h.htm')\n",
    "    raw=resp.read().decode('utf-8')\n",
    "    words=nltk.word_tokenize(raw)\n",
    "    unknown=[w for w in words if w not in wn.words()]"
   ]
  },
  {
   "cell_type": "code",
   "execution_count": 78,
   "metadata": {},
   "outputs": [],
   "source": [
    "# 24\n",
    "p1=r'e'\n",
    "p2=r'i'\n",
    "p3='o'\n",
    "p4=r'[.]'\n",
    "p5=r'ate'\n",
    "p6=r'^s'\n",
    "p7=r's'\n",
    "p8=r'1'\n",
    "\n",
    "def f(s):\n",
    "    s=re.sub(p1,'3',s)\n",
    "    s=re.sub(p2,'1',s)\n",
    "    s=re.sub(p3,'0',s)\n",
    "    s=re.sub(p4,'5w33t!')\n",
    "    s=re.sub(p5,'8',s)\n",
    "    s=re.sub(p6,'$',s)\n",
    "    s=re.sub(p7,'5',s)\n",
    "    s=re.sub(p8,'|',s)"
   ]
  },
  {
   "cell_type": "code",
   "execution_count": 79,
   "metadata": {},
   "outputs": [
    {
     "data": {
      "text/plain": [
       "'ingstray'"
      ]
     },
     "execution_count": 79,
     "metadata": {},
     "output_type": "execute_result"
    }
   ],
   "source": [
    "# 25\n",
    "def pig_word(word):\n",
    "    for i in range(len(word)):\n",
    "        if word[i] in '[AEIOUaeiou]':\n",
    "            pigword=[word[i:],word[:i],'ay']\n",
    "            result=''.join(pigword)\n",
    "    return result"
   ]
  },
  {
   "cell_type": "code",
   "execution_count": 85,
   "metadata": {},
   "outputs": [
    {
     "data": {
      "text/plain": [
       "'eeheaeae ahheehe haehhh eeaaee aheehaaa hhaeaee hehh a  e e eh hehh a  hh ehh  he he ehhhhhhea ahahh ea hhha aah aehhah  ah eeaa ha aah  a ehhah aha hha ehh hhhhaehhheeah eaa  hehhahahhhheehhhheh hh aae  h h eeaehheeeeh eeha aeahe hhahha ehae   haahhaa ah  hh  hhhha hah hehhehha ehh hhhhhehhhehheh hahhhheeh  heeheahaehh ahh  hha eahehahaehehh aahehha  hhe eheahh haehaae ehhhhhee  heah hh aahehha hh hh aehaheeh hhahh hhhhhae ehha aeh  hhaha eh a eehea heee eae haaaaeha ehh e ahe ea   hhhaahheah h'"
      ]
     },
     "execution_count": 85,
     "metadata": {},
     "output_type": "execute_result"
    }
   ],
   "source": [
    "# 27\n",
    "import random\n",
    "str=[]\n",
    "\n",
    "for i in range(500):\n",
    "    str.append(random.choice(\"aehh \"))\n",
    "\n",
    "str = ''.join(str)\n",
    "str"
   ]
  },
  {
   "cell_type": "code",
   "execution_count": 86,
   "metadata": {},
   "outputs": [
    {
     "data": {
      "text/plain": [
       "['aft',\n",
       " 'al',\n",
       " 'is',\n",
       " 'said',\n",
       " 'and',\n",
       " 'don',\n",
       " ',',\n",
       " 'mor',\n",
       " 'is',\n",
       " 'said',\n",
       " 'than',\n",
       " 'don',\n",
       " '.']"
      ]
     },
     "execution_count": 86,
     "metadata": {},
     "output_type": "execute_result"
    }
   ],
   "source": [
    "# 30 \n",
    "saying=['After', 'all', 'is', 'said','and', 'done', ',', 'more','is', 'said', 'than', 'done', '.']\n",
    "\n",
    "porter=nltk.PorterStemmer()\n",
    "\n",
    "lancaster=nltk.LancasterStemmer()\n",
    "\n",
    "[porter.stem(word) for word in saying]\n",
    "\n",
    "[lancaster.stem(word) for word in saying]"
   ]
  },
  {
   "cell_type": "code",
   "execution_count": 69,
   "metadata": {},
   "outputs": [
    {
     "data": {
      "text/plain": [
       "['After',\n",
       " 'all',\n",
       " 'is',\n",
       " 'said',\n",
       " 'and',\n",
       " 'done',\n",
       " ',',\n",
       " 'more',\n",
       " 'is',\n",
       " 'said',\n",
       " 'than',\n",
       " 'done',\n",
       " '.']"
      ]
     },
     "execution_count": 69,
     "metadata": {},
     "output_type": "execute_result"
    }
   ],
   "source": [
    "# 31 \n",
    "saying=['After', 'all', 'is', 'said', 'and', 'done', ',', 'more', 'is', 'said', 'than', 'done', '.']\n",
    "lengths=[]\n",
    "for w in saying:\n",
    "    lengths.append(w)\n",
    "\n",
    "[w for w in saying]"
   ]
  },
  {
   "cell_type": "code",
   "execution_count": 87,
   "metadata": {},
   "outputs": [
    {
     "data": {
      "text/plain": [
       "['an',\n",
       " 'are',\n",
       " 'bland',\n",
       " 'formed',\n",
       " 'ideas',\n",
       " 'in',\n",
       " 'inexpressible',\n",
       " 'infuriating',\n",
       " 'newly',\n",
       " 'way']"
      ]
     },
     "execution_count": 87,
     "metadata": {},
     "output_type": "execute_result"
    }
   ],
   "source": [
    "# 32\n",
    "silly='newly formed bland ideas are inexpressible in an infuriating way'\n",
    "bland=silly.split()\n",
    "from functools import reduce\n",
    "s=reduce(lambda x,y:x+y,[w[1] for w in bland])\n",
    "' '.join(bland)\n",
    "sorted(bland)"
   ]
  },
  {
   "cell_type": "code",
   "execution_count": 92,
   "metadata": {},
   "outputs": [
    {
     "data": {
      "text/plain": [
       "['newly', 'formed', 'bland', 'ideas', 'are', 'inexpressible']"
      ]
     },
     "execution_count": 92,
     "metadata": {},
     "output_type": "execute_result"
    }
   ],
   "source": [
    "# 33\n",
    "'inexpressible'.index('re')\n",
    "bland.index('way')\n",
    "silly.index('in ')\n",
    "\n",
    "phrase=[]\n",
    "phrase=silly[:silly.index('in ')].split()\n",
    "phrase"
   ]
  },
  {
   "cell_type": "code",
   "execution_count": 94,
   "metadata": {},
   "outputs": [
    {
     "data": {
      "text/plain": [
       "[]"
      ]
     },
     "execution_count": 94,
     "metadata": {},
     "output_type": "execute_result"
    }
   ],
   "source": [
    "# 35\n",
    "from nltk.corpus import brown\n",
    "\n",
    "text=''.join(brown.words())\n",
    "\n",
    "re.findall(r'as best \\w+ can',text)\n",
    "\n",
    "re.findall(r'as best as \\w+ can',text)"
   ]
  }
 ],
 "metadata": {
  "kernelspec": {
   "display_name": "Python 3",
   "language": "python",
   "name": "python3"
  },
  "language_info": {
   "codemirror_mode": {
    "name": "ipython",
    "version": 3
   },
   "file_extension": ".py",
   "mimetype": "text/x-python",
   "name": "python",
   "nbconvert_exporter": "python",
   "pygments_lexer": "ipython3",
   "version": "3.7.6"
  }
 },
 "nbformat": 4,
 "nbformat_minor": 4
}
